{
 "cells": [
  {
   "cell_type": "markdown",
   "id": "e48405a1-1d08-46a4-8ab5-107236da712c",
   "metadata": {},
   "source": [
    "# Project: Brain Stroke Prediction using Machine Learning\n",
    "\n",
    "Stroke is one of the leading causes of death and long-term disability worldwide. Early detection and prevention can save lives and reduce the severity of its impact. In this project, we analyze a healthcare dataset to identify key factors that contribute to the likelihood of a person having a stroke.\n",
    "\n",
    "The dataset contains information about patients such as age, gender, hypertension, heart disease, marital status, work type, residence type, average glucose level, body mass index (BMI), smoking status, and whether the person has had a stroke.\n",
    "\n",
    "**The goal of this project is to:**\n",
    "\n",
    "* Explore and understand the dataset through Exploratory Data Analysis (EDA).\n",
    "* Identify patterns and relationships between different health factors and stroke occurrence.\n",
    "* Build and evaluate Machine Learning models that can predict the risk of stroke.\n",
    "* Compare different algorithms and highlight the most effective one.\n",
    "* Provide insights that can help in healthcare decision-making and prevention strategies.\n",
    "\n",
    "This project not only demonstrates technical skills in data analysis and machine learning but also addresses a real-world healthcare problem, making it valuable for both academic learning and practical applications."
   ]
  },
  {
   "cell_type": "markdown",
   "id": "c47f37c8-3e16-4d3c-a09e-33cca69bcad8",
   "metadata": {},
   "source": [
    "## Importing Required Libraries\n",
    "We begin by importing the essential Python libraries used for data manipulation, visualization, and machine learning."
   ]
  },
  {
   "cell_type": "code",
   "execution_count": 1,
   "id": "7a3d914c-b391-484e-b597-2fa22e5649cf",
   "metadata": {},
   "outputs": [],
   "source": [
    "import numpy as np\n",
    "import pandas as pd\n",
    "import matplotlib.pyplot as plt\n",
    "import seaborn as sns\n",
    "import warnings\n",
    "warnings.filterwarnings('ignore')"
   ]
  },
  {
   "cell_type": "code",
   "execution_count": 2,
   "id": "5bb19fb3-e07e-48cc-bc0d-20616a078691",
   "metadata": {},
   "outputs": [],
   "source": [
    "df = pd.read_csv(r'healthcare-dataset-stroke-data.csv')"
   ]
  },
  {
   "cell_type": "code",
   "execution_count": 3,
   "id": "ed5be520-52ab-477e-bc37-870d414ac0d0",
   "metadata": {},
   "outputs": [
    {
     "data": {
      "text/html": [
       "<div>\n",
       "<style scoped>\n",
       "    .dataframe tbody tr th:only-of-type {\n",
       "        vertical-align: middle;\n",
       "    }\n",
       "\n",
       "    .dataframe tbody tr th {\n",
       "        vertical-align: top;\n",
       "    }\n",
       "\n",
       "    .dataframe thead th {\n",
       "        text-align: right;\n",
       "    }\n",
       "</style>\n",
       "<table border=\"1\" class=\"dataframe\">\n",
       "  <thead>\n",
       "    <tr style=\"text-align: right;\">\n",
       "      <th></th>\n",
       "      <th>id</th>\n",
       "      <th>gender</th>\n",
       "      <th>age</th>\n",
       "      <th>hypertension</th>\n",
       "      <th>heart_disease</th>\n",
       "      <th>ever_married</th>\n",
       "      <th>work_type</th>\n",
       "      <th>Residence_type</th>\n",
       "      <th>avg_glucose_level</th>\n",
       "      <th>bmi</th>\n",
       "      <th>smoking_status</th>\n",
       "      <th>stroke</th>\n",
       "    </tr>\n",
       "  </thead>\n",
       "  <tbody>\n",
       "    <tr>\n",
       "      <th>0</th>\n",
       "      <td>9046</td>\n",
       "      <td>Male</td>\n",
       "      <td>67.0</td>\n",
       "      <td>0</td>\n",
       "      <td>1</td>\n",
       "      <td>Yes</td>\n",
       "      <td>Private</td>\n",
       "      <td>Urban</td>\n",
       "      <td>228.69</td>\n",
       "      <td>36.6</td>\n",
       "      <td>formerly smoked</td>\n",
       "      <td>1</td>\n",
       "    </tr>\n",
       "    <tr>\n",
       "      <th>1</th>\n",
       "      <td>51676</td>\n",
       "      <td>Female</td>\n",
       "      <td>61.0</td>\n",
       "      <td>0</td>\n",
       "      <td>0</td>\n",
       "      <td>Yes</td>\n",
       "      <td>Self-employed</td>\n",
       "      <td>Rural</td>\n",
       "      <td>202.21</td>\n",
       "      <td>NaN</td>\n",
       "      <td>never smoked</td>\n",
       "      <td>1</td>\n",
       "    </tr>\n",
       "    <tr>\n",
       "      <th>2</th>\n",
       "      <td>31112</td>\n",
       "      <td>Male</td>\n",
       "      <td>80.0</td>\n",
       "      <td>0</td>\n",
       "      <td>1</td>\n",
       "      <td>Yes</td>\n",
       "      <td>Private</td>\n",
       "      <td>Rural</td>\n",
       "      <td>105.92</td>\n",
       "      <td>32.5</td>\n",
       "      <td>never smoked</td>\n",
       "      <td>1</td>\n",
       "    </tr>\n",
       "    <tr>\n",
       "      <th>3</th>\n",
       "      <td>60182</td>\n",
       "      <td>Female</td>\n",
       "      <td>49.0</td>\n",
       "      <td>0</td>\n",
       "      <td>0</td>\n",
       "      <td>Yes</td>\n",
       "      <td>Private</td>\n",
       "      <td>Urban</td>\n",
       "      <td>171.23</td>\n",
       "      <td>34.4</td>\n",
       "      <td>smokes</td>\n",
       "      <td>1</td>\n",
       "    </tr>\n",
       "    <tr>\n",
       "      <th>4</th>\n",
       "      <td>1665</td>\n",
       "      <td>Female</td>\n",
       "      <td>79.0</td>\n",
       "      <td>1</td>\n",
       "      <td>0</td>\n",
       "      <td>Yes</td>\n",
       "      <td>Self-employed</td>\n",
       "      <td>Rural</td>\n",
       "      <td>174.12</td>\n",
       "      <td>24.0</td>\n",
       "      <td>never smoked</td>\n",
       "      <td>1</td>\n",
       "    </tr>\n",
       "  </tbody>\n",
       "</table>\n",
       "</div>"
      ],
      "text/plain": [
       "      id  gender   age  hypertension  heart_disease ever_married  \\\n",
       "0   9046    Male  67.0             0              1          Yes   \n",
       "1  51676  Female  61.0             0              0          Yes   \n",
       "2  31112    Male  80.0             0              1          Yes   \n",
       "3  60182  Female  49.0             0              0          Yes   \n",
       "4   1665  Female  79.0             1              0          Yes   \n",
       "\n",
       "       work_type Residence_type  avg_glucose_level   bmi   smoking_status  \\\n",
       "0        Private          Urban             228.69  36.6  formerly smoked   \n",
       "1  Self-employed          Rural             202.21   NaN     never smoked   \n",
       "2        Private          Rural             105.92  32.5     never smoked   \n",
       "3        Private          Urban             171.23  34.4           smokes   \n",
       "4  Self-employed          Rural             174.12  24.0     never smoked   \n",
       "\n",
       "   stroke  \n",
       "0       1  \n",
       "1       1  \n",
       "2       1  \n",
       "3       1  \n",
       "4       1  "
      ]
     },
     "execution_count": 3,
     "metadata": {},
     "output_type": "execute_result"
    }
   ],
   "source": [
    "df.head()"
   ]
  },
  {
   "cell_type": "markdown",
   "id": "a64b7ede-fe09-421d-ba81-50715a21d86c",
   "metadata": {},
   "source": [
    "## Exploratory Data Analysis (EDA)  \n",
    "In this step, we explore the dataset to understand distributions, missing values, and correlations.  "
   ]
  },
  {
   "cell_type": "code",
   "execution_count": 4,
   "id": "f5f0da02-090c-472e-8a7b-8c550bf38bf2",
   "metadata": {},
   "outputs": [
    {
     "name": "stdout",
     "output_type": "stream",
     "text": [
      "<class 'pandas.core.frame.DataFrame'>\n",
      "RangeIndex: 5110 entries, 0 to 5109\n",
      "Data columns (total 12 columns):\n",
      " #   Column             Non-Null Count  Dtype  \n",
      "---  ------             --------------  -----  \n",
      " 0   id                 5110 non-null   int64  \n",
      " 1   gender             5110 non-null   object \n",
      " 2   age                5110 non-null   float64\n",
      " 3   hypertension       5110 non-null   int64  \n",
      " 4   heart_disease      5110 non-null   int64  \n",
      " 5   ever_married       5110 non-null   object \n",
      " 6   work_type          5110 non-null   object \n",
      " 7   Residence_type     5110 non-null   object \n",
      " 8   avg_glucose_level  5110 non-null   float64\n",
      " 9   bmi                4909 non-null   float64\n",
      " 10  smoking_status     5110 non-null   object \n",
      " 11  stroke             5110 non-null   int64  \n",
      "dtypes: float64(3), int64(4), object(5)\n",
      "memory usage: 479.2+ KB\n"
     ]
    }
   ],
   "source": [
    "df.info()"
   ]
  },
  {
   "cell_type": "code",
   "execution_count": 5,
   "id": "00bda667-3e56-4bce-a3b6-87e945c36568",
   "metadata": {},
   "outputs": [
    {
     "data": {
      "text/plain": [
       "id                     0\n",
       "gender                 0\n",
       "age                    0\n",
       "hypertension           0\n",
       "heart_disease          0\n",
       "ever_married           0\n",
       "work_type              0\n",
       "Residence_type         0\n",
       "avg_glucose_level      0\n",
       "bmi                  201\n",
       "smoking_status         0\n",
       "stroke                 0\n",
       "dtype: int64"
      ]
     },
     "execution_count": 5,
     "metadata": {},
     "output_type": "execute_result"
    }
   ],
   "source": [
    "df.isna().sum()"
   ]
  },
  {
   "cell_type": "code",
   "execution_count": 6,
   "id": "56e712ff-1f04-44fa-ba0b-cc3e75848065",
   "metadata": {},
   "outputs": [],
   "source": [
    "df[\"bmi\"].fillna(df[\"bmi\"].mean(), inplace=True)"
   ]
  },
  {
   "cell_type": "code",
   "execution_count": 7,
   "id": "e85fee01-2e63-45b6-9086-3e384a8c7d0b",
   "metadata": {},
   "outputs": [
    {
     "data": {
      "text/plain": [
       "id                   0\n",
       "gender               0\n",
       "age                  0\n",
       "hypertension         0\n",
       "heart_disease        0\n",
       "ever_married         0\n",
       "work_type            0\n",
       "Residence_type       0\n",
       "avg_glucose_level    0\n",
       "bmi                  0\n",
       "smoking_status       0\n",
       "stroke               0\n",
       "dtype: int64"
      ]
     },
     "execution_count": 7,
     "metadata": {},
     "output_type": "execute_result"
    }
   ],
   "source": [
    "df.isna().sum()"
   ]
  },
  {
   "cell_type": "code",
   "execution_count": 8,
   "id": "9f99f2de-e9ae-4c06-b01e-f225724ab674",
   "metadata": {},
   "outputs": [
    {
     "data": {
      "text/plain": [
       "0"
      ]
     },
     "execution_count": 8,
     "metadata": {},
     "output_type": "execute_result"
    }
   ],
   "source": [
    "df.duplicated().sum()"
   ]
  },
  {
   "cell_type": "code",
   "execution_count": 9,
   "id": "542d2513-6d3e-4c69-860e-da2f024e8693",
   "metadata": {},
   "outputs": [
    {
     "data": {
      "text/plain": [
       "array([1, 0], dtype=int64)"
      ]
     },
     "execution_count": 9,
     "metadata": {},
     "output_type": "execute_result"
    }
   ],
   "source": [
    "df['stroke'].unique()"
   ]
  },
  {
   "cell_type": "code",
   "execution_count": 10,
   "id": "33decc6b-e3bb-4147-98a9-b49668006194",
   "metadata": {},
   "outputs": [
    {
     "data": {
      "text/plain": [
       "gender\n",
       "Female    2994\n",
       "Male      2115\n",
       "Other        1\n",
       "Name: count, dtype: int64"
      ]
     },
     "execution_count": 10,
     "metadata": {},
     "output_type": "execute_result"
    }
   ],
   "source": [
    "df['gender'].value_counts()"
   ]
  },
  {
   "cell_type": "code",
   "execution_count": 11,
   "id": "b208f3b4-5524-49e4-b922-3b026df8f90e",
   "metadata": {},
   "outputs": [],
   "source": [
    "df.drop(df[df['gender']=='Other'].index, inplace=True)"
   ]
  },
  {
   "cell_type": "code",
   "execution_count": 12,
   "id": "f1da0267-a604-4310-8337-10a96600d09e",
   "metadata": {},
   "outputs": [
    {
     "data": {
      "text/plain": [
       "[0.08, 0.16, 0.24, 0.32, 0.4, 0.48, 0.56, 0.64, 0.72, 0.8, 0.88, 1.0]"
      ]
     },
     "execution_count": 12,
     "metadata": {},
     "output_type": "execute_result"
    }
   ],
   "source": [
    "sorted(df['age'].unique().tolist())[0:12]"
   ]
  },
  {
   "cell_type": "code",
   "execution_count": 13,
   "id": "52b99873-0884-4c3f-abf3-9c4fc5790994",
   "metadata": {},
   "outputs": [
    {
     "data": {
      "text/html": [
       "<div>\n",
       "<style scoped>\n",
       "    .dataframe tbody tr th:only-of-type {\n",
       "        vertical-align: middle;\n",
       "    }\n",
       "\n",
       "    .dataframe tbody tr th {\n",
       "        vertical-align: top;\n",
       "    }\n",
       "\n",
       "    .dataframe thead th {\n",
       "        text-align: right;\n",
       "    }\n",
       "</style>\n",
       "<table border=\"1\" class=\"dataframe\">\n",
       "  <thead>\n",
       "    <tr style=\"text-align: right;\">\n",
       "      <th></th>\n",
       "      <th>count</th>\n",
       "      <th>mean</th>\n",
       "      <th>std</th>\n",
       "      <th>min</th>\n",
       "      <th>25%</th>\n",
       "      <th>50%</th>\n",
       "      <th>75%</th>\n",
       "      <th>max</th>\n",
       "    </tr>\n",
       "  </thead>\n",
       "  <tbody>\n",
       "    <tr>\n",
       "      <th>id</th>\n",
       "      <td>5109.0</td>\n",
       "      <td>36513.985516</td>\n",
       "      <td>21162.008804</td>\n",
       "      <td>67.00</td>\n",
       "      <td>17740.00</td>\n",
       "      <td>36922.00</td>\n",
       "      <td>54643.00</td>\n",
       "      <td>72940.00</td>\n",
       "    </tr>\n",
       "    <tr>\n",
       "      <th>age</th>\n",
       "      <td>5109.0</td>\n",
       "      <td>43.229986</td>\n",
       "      <td>22.613575</td>\n",
       "      <td>0.08</td>\n",
       "      <td>25.00</td>\n",
       "      <td>45.00</td>\n",
       "      <td>61.00</td>\n",
       "      <td>82.00</td>\n",
       "    </tr>\n",
       "    <tr>\n",
       "      <th>hypertension</th>\n",
       "      <td>5109.0</td>\n",
       "      <td>0.097475</td>\n",
       "      <td>0.296633</td>\n",
       "      <td>0.00</td>\n",
       "      <td>0.00</td>\n",
       "      <td>0.00</td>\n",
       "      <td>0.00</td>\n",
       "      <td>1.00</td>\n",
       "    </tr>\n",
       "    <tr>\n",
       "      <th>heart_disease</th>\n",
       "      <td>5109.0</td>\n",
       "      <td>0.054022</td>\n",
       "      <td>0.226084</td>\n",
       "      <td>0.00</td>\n",
       "      <td>0.00</td>\n",
       "      <td>0.00</td>\n",
       "      <td>0.00</td>\n",
       "      <td>1.00</td>\n",
       "    </tr>\n",
       "    <tr>\n",
       "      <th>avg_glucose_level</th>\n",
       "      <td>5109.0</td>\n",
       "      <td>106.140399</td>\n",
       "      <td>45.285004</td>\n",
       "      <td>55.12</td>\n",
       "      <td>77.24</td>\n",
       "      <td>91.88</td>\n",
       "      <td>114.09</td>\n",
       "      <td>271.74</td>\n",
       "    </tr>\n",
       "    <tr>\n",
       "      <th>bmi</th>\n",
       "      <td>5109.0</td>\n",
       "      <td>28.894508</td>\n",
       "      <td>7.698235</td>\n",
       "      <td>10.30</td>\n",
       "      <td>23.80</td>\n",
       "      <td>28.40</td>\n",
       "      <td>32.80</td>\n",
       "      <td>97.60</td>\n",
       "    </tr>\n",
       "    <tr>\n",
       "      <th>stroke</th>\n",
       "      <td>5109.0</td>\n",
       "      <td>0.048738</td>\n",
       "      <td>0.215340</td>\n",
       "      <td>0.00</td>\n",
       "      <td>0.00</td>\n",
       "      <td>0.00</td>\n",
       "      <td>0.00</td>\n",
       "      <td>1.00</td>\n",
       "    </tr>\n",
       "  </tbody>\n",
       "</table>\n",
       "</div>"
      ],
      "text/plain": [
       "                    count          mean           std    min       25%  \\\n",
       "id                 5109.0  36513.985516  21162.008804  67.00  17740.00   \n",
       "age                5109.0     43.229986     22.613575   0.08     25.00   \n",
       "hypertension       5109.0      0.097475      0.296633   0.00      0.00   \n",
       "heart_disease      5109.0      0.054022      0.226084   0.00      0.00   \n",
       "avg_glucose_level  5109.0    106.140399     45.285004  55.12     77.24   \n",
       "bmi                5109.0     28.894508      7.698235  10.30     23.80   \n",
       "stroke             5109.0      0.048738      0.215340   0.00      0.00   \n",
       "\n",
       "                        50%       75%       max  \n",
       "id                 36922.00  54643.00  72940.00  \n",
       "age                   45.00     61.00     82.00  \n",
       "hypertension           0.00      0.00      1.00  \n",
       "heart_disease          0.00      0.00      1.00  \n",
       "avg_glucose_level     91.88    114.09    271.74  \n",
       "bmi                   28.40     32.80     97.60  \n",
       "stroke                 0.00      0.00      1.00  "
      ]
     },
     "execution_count": 13,
     "metadata": {},
     "output_type": "execute_result"
    }
   ],
   "source": [
    "df.describe().T"
   ]
  },
  {
   "cell_type": "markdown",
   "id": "48163306-51a2-4b9d-ade8-f061e9db79c0",
   "metadata": {},
   "source": [
    "# Data Visualization\n",
    "\n",
    "## Proportion of Stroke Cases"
   ]
  },
  {
   "cell_type": "code",
   "execution_count": 14,
   "id": "4abe3c3d-20d1-4736-804b-cc6d3cc8bb49",
   "metadata": {},
   "outputs": [],
   "source": [
    "# Filter data for stroke & Non Stroke\n",
    "no_stroke_data = df[df['stroke'] == 0 ]\n",
    "stroke_data = df[df['stroke'] == 1 ]"
   ]
  },
  {
   "cell_type": "code",
   "execution_count": 15,
   "id": "295e577c-99cb-41c7-b217-3ed6ddc980f9",
   "metadata": {},
   "outputs": [
    {
     "data": {
      "image/png": "[encoded data removed]",
      "text/plain": [
       "<Figure size 600x600 with 1 Axes>"
      ]
     },
     "metadata": {},
     "output_type": "display_data"
    }
   ],
   "source": [
    "stroke_counts = df[\"stroke\"].value_counts()\n",
    "\n",
    "# Labels mapping\n",
    "labels = [\"No\", \"Yes\"]\n",
    "\n",
    "# Colors\n",
    "colors = [\"teal\", \"grey\"]\n",
    "\n",
    "# Pull/Explode (yaha \"Yes\" wale ko thoda bahar kheech rahe hain)\n",
    "explode = [0, 0.1]   # first slice (No) = 0, second slice (Yes) = 0.1\n",
    "\n",
    "# Pie chart\n",
    "plt.figure(figsize=(6,6))\n",
    "plt.pie(\n",
    "    stroke_counts, \n",
    "    labels=labels, \n",
    "    autopct=\"%.2f%%\", \n",
    "    colors=colors, \n",
    "    startangle=90,\n",
    "    explode=explode\n",
    ")\n",
    "\n",
    "plt.title(\"Proportion of Stroke Cases\")\n",
    "plt.legend(title=\"Stroke Status\", loc=\"upper right\")\n",
    "plt.show()\n"
   ]
  },
  {
   "cell_type": "markdown",
   "id": "4dfdffcd-a303-4625-85e4-a1aaa40c1264",
   "metadata": {},
   "source": [
    "## Average Glucose Level Distribution by Stroke"
   ]
  },
  {
   "cell_type": "code",
   "execution_count": 16,
   "id": "1f49b5a4-b6bb-450c-82fb-9ca188af0154",
   "metadata": {},
   "outputs": [
    {
     "data": {
      "image/png": "[encoded data removed]",
      "text/plain": [
       "<Figure size 800x400 with 2 Axes>"
      ]
     },
     "metadata": {},
     "output_type": "display_data"
    }
   ],
   "source": [
    "# Data split\n",
    "no_stroke = df[df[\"stroke\"] == 0]\n",
    "yes_stroke = df[df[\"stroke\"] == 1]\n",
    "\n",
    "# Plotting\n",
    "fig, axes = plt.subplots(1, 2, figsize=(8,4), sharey=True)\n",
    "\n",
    "# No Stroke Histogram\n",
    "sns.histplot(no_stroke[\"avg_glucose_level\"], bins=30, kde=False, color=\"teal\", ax=axes[0])\n",
    "axes[0].set_title(\"No Stroke\")\n",
    "axes[0].set_xlabel(\"Average Glucose Level\")\n",
    "axes[0].set_ylabel(\"Count\")\n",
    "\n",
    "# Yes Stroke Histogram\n",
    "sns.histplot(yes_stroke[\"avg_glucose_level\"], bins=30, kde=False, color=\"black\", ax=axes[1])\n",
    "axes[1].set_title(\"Yes Stroke\")\n",
    "axes[1].set_xlabel(\"Average Glucose Level\")\n",
    "axes[1].set_ylabel(\"Count\")\n",
    "\n",
    "# Main Title\n",
    "fig.suptitle(\"Average Glucose Level Distribution by Stroke\", fontsize=14)\n",
    "\n",
    "plt.tight_layout()\n",
    "plt.show()"
   ]
  },
  {
   "cell_type": "markdown",
   "id": "810ae660-ce36-43ce-93b2-4ea7d1517830",
   "metadata": {},
   "source": [
    "## Age Distribution by Stroke"
   ]
  },
  {
   "cell_type": "code",
   "execution_count": 17,
   "id": "c36e13d2-fed4-45d0-902c-871ed858b9dc",
   "metadata": {},
   "outputs": [
    {
     "data": {
      "image/png": "[encoded data removed]",
      "text/plain": [
       "<Figure size 800x400 with 2 Axes>"
      ]
     },
     "metadata": {},
     "output_type": "display_data"
    }
   ],
   "source": [
    "# Data split\n",
    "no_stroke = df[df[\"stroke\"] == 0]\n",
    "yes_stroke = df[df[\"stroke\"] == 1]\n",
    "\n",
    "# Plotting\n",
    "fig, axes = plt.subplots(1, 2, figsize=(8,4), sharey=True)\n",
    "\n",
    "# No Stroke Histogram\n",
    "sns.histplot(no_stroke[\"age\"], bins=30, kde=False, color=\"teal\", ax=axes[0])\n",
    "axes[0].set_title(\"No Stroke\")\n",
    "axes[0].set_xlabel(\"Age\")\n",
    "axes[0].set_ylabel(\"Count\")\n",
    "\n",
    "# Yes Stroke Histogram\n",
    "sns.histplot(yes_stroke[\"age\"], bins=30, kde=False, color=\"black\", ax=axes[1])\n",
    "axes[1].set_title(\"Yes Stroke\")\n",
    "axes[1].set_xlabel(\"Age\")\n",
    "axes[1].set_ylabel(\"Count\")\n",
    "\n",
    "# Main Title\n",
    "fig.suptitle(\"Age Distribution by Stroke\", fontsize=14)\n",
    "\n",
    "plt.tight_layout()\n",
    "plt.show()"
   ]
  },
  {
   "cell_type": "markdown",
   "id": "3cb7ed59-0334-4e52-adfe-e3748e89e099",
   "metadata": {},
   "source": [
    "## BMI Distribution by Stroke Status"
   ]
  },
  {
   "cell_type": "code",
   "execution_count": 18,
   "id": "4e566494-c756-44ae-bcfe-e9b29f15bea8",
   "metadata": {},
   "outputs": [
    {
     "data": {
      "image/png": "[encoded data removed]",
      "text/plain": [
       "<Figure size 800x400 with 2 Axes>"
      ]
     },
     "metadata": {},
     "output_type": "display_data"
    }
   ],
   "source": [
    "# Data split\n",
    "no_stroke = df[df[\"stroke\"] == 0]\n",
    "yes_stroke = df[df[\"stroke\"] == 1]\n",
    "\n",
    "# Plotting\n",
    "fig, axes = plt.subplots(1, 2, figsize=(8,4), sharey=True)\n",
    "\n",
    "# No Stroke\n",
    "sns.violinplot(y=no_stroke[\"bmi\"], color=\"teal\", inner=\"box\", ax=axes[0])\n",
    "axes[0].set_title(\"No Stroke\")\n",
    "axes[0].set_ylabel(\"BMI\")\n",
    "\n",
    "# Yes Stroke\n",
    "sns.violinplot(y=yes_stroke[\"bmi\"], color=\"black\", inner=\"box\", ax=axes[1])\n",
    "axes[1].set_title(\"Yes Stroke\")\n",
    "axes[1].set_ylabel(\"BMI\")\n",
    "\n",
    "# Main Title\n",
    "fig.suptitle(\"BMI Distribution by Stroke Status\", fontsize=14)\n",
    "\n",
    "plt.tight_layout()\n",
    "plt.show()"
   ]
  },
  {
   "cell_type": "code",
   "execution_count": 19,
   "id": "af8f18c4-7e74-4655-93ba-b70f06b1036b",
   "metadata": {},
   "outputs": [
    {
     "data": {
      "image/png": "[encoded data removed]",
      "text/plain": [
       "<Figure size 1000x800 with 6 Axes>"
      ]
     },
     "metadata": {},
     "output_type": "display_data"
    }
   ],
   "source": [
    "x_values = ['smoking_status', 'hypertension', 'heart_disease','Residence_type','gender', 'ever_married']\n",
    "fig, axis = plt.subplots(nrows = 3, ncols = 2, figsize=(10, 8))\n",
    "\n",
    "for ax, x_value in zip(axis.flat, x_values):\n",
    "    sns.countplot(data = df, x = x_value, hue='stroke', ax = ax)\n",
    "    ax.set_title(f'{x_value.capitalize()} and smoking status')\n",
    "\n",
    "plt.tight_layout()\n",
    "plt.show()"
   ]
  },
  {
   "cell_type": "markdown",
   "id": "6866b400-4f84-4aca-baf1-8ed73db9d928",
   "metadata": {},
   "source": [
    "# Data Preparation & Preprocessing"
   ]
  },
  {
   "cell_type": "code",
   "execution_count": 20,
   "id": "5e8e0536-2e9a-46fa-a668-1a2439ffa8e5",
   "metadata": {},
   "outputs": [],
   "source": [
    "from sklearn.preprocessing import OneHotEncoder, OrdinalEncoder , StandardScaler , LabelEncoder\n",
    "from sklearn.compose import ColumnTransformer"
   ]
  },
  {
   "cell_type": "code",
   "execution_count": 21,
   "id": "c9f10b3b-bb02-4ad4-96cc-f4760b0247b7",
   "metadata": {},
   "outputs": [],
   "source": [
    "input_cols = list(df.columns)[1:-1]"
   ]
  },
  {
   "cell_type": "code",
   "execution_count": 22,
   "id": "c0c95aef-f070-4d04-b0c4-a1b49323ff3d",
   "metadata": {},
   "outputs": [],
   "source": [
    "target_col = 'stroke'"
   ]
  },
  {
   "cell_type": "code",
   "execution_count": 23,
   "id": "9138a802-ee39-42eb-b474-349781c9dbb1",
   "metadata": {},
   "outputs": [
    {
     "data": {
      "text/plain": [
       "['gender',\n",
       " 'age',\n",
       " 'hypertension',\n",
       " 'heart_disease',\n",
       " 'ever_married',\n",
       " 'work_type',\n",
       " 'Residence_type',\n",
       " 'avg_glucose_level',\n",
       " 'bmi',\n",
       " 'smoking_status']"
      ]
     },
     "execution_count": 23,
     "metadata": {},
     "output_type": "execute_result"
    }
   ],
   "source": [
    "input_cols"
   ]
  },
  {
   "cell_type": "code",
   "execution_count": 24,
   "id": "bb067403-4fa2-4812-80e6-86a746b035a9",
   "metadata": {},
   "outputs": [],
   "source": [
    "train_inputs = df[input_cols].copy()\n",
    "train_target = df[target_col].copy()\n",
    "\n",
    "test_inputs =df[input_cols].copy()"
   ]
  },
  {
   "cell_type": "code",
   "execution_count": 25,
   "id": "2589cca6-fefd-436a-97c6-d32c793b1d76",
   "metadata": {},
   "outputs": [],
   "source": [
    "numerical_cols = train_inputs.select_dtypes(include=np.number).columns.to_list()"
   ]
  },
  {
   "cell_type": "code",
   "execution_count": 26,
   "id": "60c08848-fca5-4b0b-b208-5fcf72fd3c57",
   "metadata": {},
   "outputs": [
    {
     "data": {
      "text/plain": [
       "['age', 'hypertension', 'heart_disease', 'avg_glucose_level', 'bmi']"
      ]
     },
     "execution_count": 26,
     "metadata": {},
     "output_type": "execute_result"
    }
   ],
   "source": [
    "numerical_cols"
   ]
  },
  {
   "cell_type": "code",
   "execution_count": 27,
   "id": "89784c56-410c-4f98-8135-1e960642a54d",
   "metadata": {},
   "outputs": [],
   "source": [
    "categorical_cols = train_inputs.select_dtypes(include='object').columns.to_list()"
   ]
  },
  {
   "cell_type": "code",
   "execution_count": 28,
   "id": "21d40bdf-0662-49cc-907d-a5c34ee7b866",
   "metadata": {},
   "outputs": [
    {
     "data": {
      "text/plain": [
       "['gender', 'ever_married', 'work_type', 'Residence_type', 'smoking_status']"
      ]
     },
     "execution_count": 28,
     "metadata": {},
     "output_type": "execute_result"
    }
   ],
   "source": [
    "categorical_cols"
   ]
  },
  {
   "cell_type": "code",
   "execution_count": 29,
   "id": "61342622-584a-442d-bd73-739e6ef184e8",
   "metadata": {},
   "outputs": [],
   "source": [
    "categorical_cols.remove('smoking_status')"
   ]
  },
  {
   "cell_type": "code",
   "execution_count": 30,
   "id": "c2bbf7eb-f214-42e9-8445-3ac177780b68",
   "metadata": {},
   "outputs": [
    {
     "data": {
      "text/plain": [
       "array(['formerly smoked', 'never smoked', 'smokes', 'Unknown'],\n",
       "      dtype=object)"
      ]
     },
     "execution_count": 30,
     "metadata": {},
     "output_type": "execute_result"
    }
   ],
   "source": [
    "df['smoking_status'].unique()"
   ]
  },
  {
   "cell_type": "code",
   "execution_count": 31,
   "id": "3abcf0f0-b66b-4f78-868e-a673ac8602fc",
   "metadata": {},
   "outputs": [],
   "source": [
    "ordinal_enc = OrdinalEncoder(categories=[['Unknown','never smoked', 'formerly smoked','smokes']])"
   ]
  },
  {
   "cell_type": "code",
   "execution_count": 32,
   "id": "af8c637f-9a12-4596-b1f1-ba8792fef496",
   "metadata": {},
   "outputs": [],
   "source": [
    "onehot_enc = OneHotEncoder(handle_unknown='ignore')"
   ]
  },
  {
   "cell_type": "code",
   "execution_count": 33,
   "id": "cfabe732-2057-47cc-8aea-019984848b70",
   "metadata": {},
   "outputs": [],
   "source": [
    "preprocessor = ColumnTransformer([\n",
    "    ('Ordinal_Encode', ordinal_enc,['smoking_status']), \n",
    "    ('OneHot_Encode', onehot_enc,categorical_cols)\n",
    "]\n",
    ")"
   ]
  },
  {
   "cell_type": "code",
   "execution_count": 34,
   "id": "5c04e59e-e416-48bc-a5cd-5541e8cab873",
   "metadata": {},
   "outputs": [
    {
     "data": {
      "text/html": [
       "<style>#sk-container-id-1 {\n",
       "  /* Definition of color scheme common for light and dark mode */\n",
       "  --sklearn-color-text: black;\n",
       "  --sklearn-color-line: gray;\n",
       "  /* Definition of color scheme for unfitted estimators */\n",
       "  --sklearn-color-unfitted-level-0: #fff5e6;\n",
       "  --sklearn-color-unfitted-level-1: #f6e4d2;\n",
       "  --sklearn-color-unfitted-level-2: #ffe0b3;\n",
       "  --sklearn-color-unfitted-level-3: chocolate;\n",
       "  /* Definition of color scheme for fitted estimators */\n",
       "  --sklearn-color-fitted-level-0: #f0f8ff;\n",
       "  --sklearn-color-fitted-level-1: #d4ebff;\n",
       "  --sklearn-color-fitted-level-2: #b3dbfd;\n",
       "  --sklearn-color-fitted-level-3: cornflowerblue;\n",
       "\n",
       "  /* Specific color for light theme */\n",
       "  --sklearn-color-text-on-default-background: var(--sg-text-color, var(--theme-code-foreground, var(--jp-content-font-color1, black)));\n",
       "  --sklearn-color-background: var(--sg-background-color, var(--theme-background, var(--jp-layout-color0, white)));\n",
       "  --sklearn-color-border-box: var(--sg-text-color, var(--theme-code-foreground, var(--jp-content-font-color1, black)));\n",
       "  --sklearn-color-icon: #696969;\n",
       "\n",
       "  @media (prefers-color-scheme: dark) {\n",
       "    /* Redefinition of color scheme for dark theme */\n",
       "    --sklearn-color-text-on-default-background: var(--sg-text-color, var(--theme-code-foreground, var(--jp-content-font-color1, white)));\n",
       "    --sklearn-color-background: var(--sg-background-color, var(--theme-background, var(--jp-layout-color0, #111)));\n",
       "    --sklearn-color-border-box: var(--sg-text-color, var(--theme-code-foreground, var(--jp-content-font-color1, white)));\n",
       "    --sklearn-color-icon: #878787;\n",
       "  }\n",
       "}\n",
       "\n",
       "#sk-container-id-1 {\n",
       "  color: var(--sklearn-color-text);\n",
       "}\n",
       "\n",
       "#sk-container-id-1 pre {\n",
       "  padding: 0;\n",
       "}\n",
       "\n",
       "#sk-container-id-1 input.sk-hidden--visually {\n",
       "  border: 0;\n",
       "  clip: rect(1px 1px 1px 1px);\n",
       "  clip: rect(1px, 1px, 1px, 1px);\n",
       "  height: 1px;\n",
       "  margin: -1px;\n",
       "  overflow: hidden;\n",
       "  padding: 0;\n",
       "  position: absolute;\n",
       "  width: 1px;\n",
       "}\n",
       "\n",
       "#sk-container-id-1 div.sk-dashed-wrapped {\n",
       "  border: 1px dashed var(--sklearn-color-line);\n",
       "  margin: 0 0.4em 0.5em 0.4em;\n",
       "  box-sizing: border-box;\n",
       "  padding-bottom: 0.4em;\n",
       "  background-color: var(--sklearn-color-background);\n",
       "}\n",
       "\n",
       "#sk-container-id-1 div.sk-container {\n",
       "  /* jupyter's `normalize.less` sets `[hidden] { display: none; }`\n",
       "     but bootstrap.min.css set `[hidden] { display: none !important; }`\n",
       "     so we also need the `!important` here to be able to override the\n",
       "     default hidden behavior on the sphinx rendered scikit-learn.org.\n",
       "     See: https://github.com/scikit-learn/scikit-learn/issues/21755 */\n",
       "  display: inline-block !important;\n",
       "  position: relative;\n",
       "}\n",
       "\n",
       "#sk-container-id-1 div.sk-text-repr-fallback {\n",
       "  display: none;\n",
       "}\n",
       "\n",
       "div.sk-parallel-item,\n",
       "div.sk-serial,\n",
       "div.sk-item {\n",
       "  /* draw centered vertical line to link estimators */\n",
       "  background-image: linear-gradient(var(--sklearn-color-text-on-default-background), var(--sklearn-color-text-on-default-background));\n",
       "  background-size: 2px 100%;\n",
       "  background-repeat: no-repeat;\n",
       "  background-position: center center;\n",
       "}\n",
       "\n",
       "/* Parallel-specific style estimator block */\n",
       "\n",
       "#sk-container-id-1 div.sk-parallel-item::after {\n",
       "  content: \"\";\n",
       "  width: 100%;\n",
       "  border-bottom: 2px solid var(--sklearn-color-text-on-default-background);\n",
       "  flex-grow: 1;\n",
       "}\n",
       "\n",
       "#sk-container-id-1 div.sk-parallel {\n",
       "  display: flex;\n",
       "  align-items: stretch;\n",
       "  justify-content: center;\n",
       "  background-color: var(--sklearn-color-background);\n",
       "  position: relative;\n",
       "}\n",
       "\n",
       "#sk-container-id-1 div.sk-parallel-item {\n",
       "  display: flex;\n",
       "  flex-direction: column;\n",
       "}\n",
       "\n",
       "#sk-container-id-1 div.sk-parallel-item:first-child::after {\n",
       "  align-self: flex-end;\n",
       "  width: 50%;\n",
       "}\n",
       "\n",
       "#sk-container-id-1 div.sk-parallel-item:last-child::after {\n",
       "  align-self: flex-start;\n",
       "  width: 50%;\n",
       "}\n",
       "\n",
       "#sk-container-id-1 div.sk-parallel-item:only-child::after {\n",
       "  width: 0;\n",
       "}\n",
       "\n",
       "/* Serial-specific style estimator block */\n",
       "\n",
       "#sk-container-id-1 div.sk-serial {\n",
       "  display: flex;\n",
       "  flex-direction: column;\n",
       "  align-items: center;\n",
       "  background-color: var(--sklearn-color-background);\n",
       "  padding-right: 1em;\n",
       "  padding-left: 1em;\n",
       "}\n",
       "\n",
       "\n",
       "/* Toggleable style: style used for estimator/Pipeline/ColumnTransformer box that is\n",
       "clickable and can be expanded/collapsed.\n",
       "- Pipeline and ColumnTransformer use this feature and define the default style\n",
       "- Estimators will overwrite some part of the style using the `sk-estimator` class\n",
       "*/\n",
       "\n",
       "/* Pipeline and ColumnTransformer style (default) */\n",
       "\n",
       "#sk-container-id-1 div.sk-toggleable {\n",
       "  /* Default theme specific background. It is overwritten whether we have a\n",
       "  specific estimator or a Pipeline/ColumnTransformer */\n",
       "  background-color: var(--sklearn-color-background);\n",
       "}\n",
       "\n",
       "/* Toggleable label */\n",
       "#sk-container-id-1 label.sk-toggleable__label {\n",
       "  cursor: pointer;\n",
       "  display: block;\n",
       "  width: 100%;\n",
       "  margin-bottom: 0;\n",
       "  padding: 0.5em;\n",
       "  box-sizing: border-box;\n",
       "  text-align: center;\n",
       "}\n",
       "\n",
       "#sk-container-id-1 label.sk-toggleable__label-arrow:before {\n",
       "  /* Arrow on the left of the label */\n",
       "  content: \"▸\";\n",
       "  float: left;\n",
       "  margin-right: 0.25em;\n",
       "  color: var(--sklearn-color-icon);\n",
       "}\n",
       "\n",
       "#sk-container-id-1 label.sk-toggleable__label-arrow:hover:before {\n",
       "  color: var(--sklearn-color-text);\n",
       "}\n",
       "\n",
       "/* Toggleable content - dropdown */\n",
       "\n",
       "#sk-container-id-1 div.sk-toggleable__content {\n",
       "  max-height: 0;\n",
       "  max-width: 0;\n",
       "  overflow: hidden;\n",
       "  text-align: left;\n",
       "  /* unfitted */\n",
       "  background-color: var(--sklearn-color-unfitted-level-0);\n",
       "}\n",
       "\n",
       "#sk-container-id-1 div.sk-toggleable__content.fitted {\n",
       "  /* fitted */\n",
       "  background-color: var(--sklearn-color-fitted-level-0);\n",
       "}\n",
       "\n",
       "#sk-container-id-1 div.sk-toggleable__content pre {\n",
       "  margin: 0.2em;\n",
       "  border-radius: 0.25em;\n",
       "  color: var(--sklearn-color-text);\n",
       "  /* unfitted */\n",
       "  background-color: var(--sklearn-color-unfitted-level-0);\n",
       "}\n",
       "\n",
       "#sk-container-id-1 div.sk-toggleable__content.fitted pre {\n",
       "  /* unfitted */\n",
       "  background-color: var(--sklearn-color-fitted-level-0);\n",
       "}\n",
       "\n",
       "#sk-container-id-1 input.sk-toggleable__control:checked~div.sk-toggleable__content {\n",
       "  /* Expand drop-down */\n",
       "  max-height: 200px;\n",
       "  max-width: 100%;\n",
       "  overflow: auto;\n",
       "}\n",
       "\n",
       "#sk-container-id-1 input.sk-toggleable__control:checked~label.sk-toggleable__label-arrow:before {\n",
       "  content: \"▾\";\n",
       "}\n",
       "\n",
       "/* Pipeline/ColumnTransformer-specific style */\n",
       "\n",
       "#sk-container-id-1 div.sk-label input.sk-toggleable__control:checked~label.sk-toggleable__label {\n",
       "  color: var(--sklearn-color-text);\n",
       "  background-color: var(--sklearn-color-unfitted-level-2);\n",
       "}\n",
       "\n",
       "#sk-container-id-1 div.sk-label.fitted input.sk-toggleable__control:checked~label.sk-toggleable__label {\n",
       "  background-color: var(--sklearn-color-fitted-level-2);\n",
       "}\n",
       "\n",
       "/* Estimator-specific style */\n",
       "\n",
       "/* Colorize estimator box */\n",
       "#sk-container-id-1 div.sk-estimator input.sk-toggleable__control:checked~label.sk-toggleable__label {\n",
       "  /* unfitted */\n",
       "  background-color: var(--sklearn-color-unfitted-level-2);\n",
       "}\n",
       "\n",
       "#sk-container-id-1 div.sk-estimator.fitted input.sk-toggleable__control:checked~label.sk-toggleable__label {\n",
       "  /* fitted */\n",
       "  background-color: var(--sklearn-color-fitted-level-2);\n",
       "}\n",
       "\n",
       "#sk-container-id-1 div.sk-label label.sk-toggleable__label,\n",
       "#sk-container-id-1 div.sk-label label {\n",
       "  /* The background is the default theme color */\n",
       "  color: var(--sklearn-color-text-on-default-background);\n",
       "}\n",
       "\n",
       "/* On hover, darken the color of the background */\n",
       "#sk-container-id-1 div.sk-label:hover label.sk-toggleable__label {\n",
       "  color: var(--sklearn-color-text);\n",
       "  background-color: var(--sklearn-color-unfitted-level-2);\n",
       "}\n",
       "\n",
       "/* Label box, darken color on hover, fitted */\n",
       "#sk-container-id-1 div.sk-label.fitted:hover label.sk-toggleable__label.fitted {\n",
       "  color: var(--sklearn-color-text);\n",
       "  background-color: var(--sklearn-color-fitted-level-2);\n",
       "}\n",
       "\n",
       "/* Estimator label */\n",
       "\n",
       "#sk-container-id-1 div.sk-label label {\n",
       "  font-family: monospace;\n",
       "  font-weight: bold;\n",
       "  display: inline-block;\n",
       "  line-height: 1.2em;\n",
       "}\n",
       "\n",
       "#sk-container-id-1 div.sk-label-container {\n",
       "  text-align: center;\n",
       "}\n",
       "\n",
       "/* Estimator-specific */\n",
       "#sk-container-id-1 div.sk-estimator {\n",
       "  font-family: monospace;\n",
       "  border: 1px dotted var(--sklearn-color-border-box);\n",
       "  border-radius: 0.25em;\n",
       "  box-sizing: border-box;\n",
       "  margin-bottom: 0.5em;\n",
       "  /* unfitted */\n",
       "  background-color: var(--sklearn-color-unfitted-level-0);\n",
       "}\n",
       "\n",
       "#sk-container-id-1 div.sk-estimator.fitted {\n",
       "  /* fitted */\n",
       "  background-color: var(--sklearn-color-fitted-level-0);\n",
       "}\n",
       "\n",
       "/* on hover */\n",
       "#sk-container-id-1 div.sk-estimator:hover {\n",
       "  /* unfitted */\n",
       "  background-color: var(--sklearn-color-unfitted-level-2);\n",
       "}\n",
       "\n",
       "#sk-container-id-1 div.sk-estimator.fitted:hover {\n",
       "  /* fitted */\n",
       "  background-color: var(--sklearn-color-fitted-level-2);\n",
       "}\n",
       "\n",
       "/* Specification for estimator info (e.g. \"i\" and \"?\") */\n",
       "\n",
       "/* Common style for \"i\" and \"?\" */\n",
       "\n",
       ".sk-estimator-doc-link,\n",
       "a:link.sk-estimator-doc-link,\n",
       "a:visited.sk-estimator-doc-link {\n",
       "  float: right;\n",
       "  font-size: smaller;\n",
       "  line-height: 1em;\n",
       "  font-family: monospace;\n",
       "  background-color: var(--sklearn-color-background);\n",
       "  border-radius: 1em;\n",
       "  height: 1em;\n",
       "  width: 1em;\n",
       "  text-decoration: none !important;\n",
       "  margin-left: 1ex;\n",
       "  /* unfitted */\n",
       "  border: var(--sklearn-color-unfitted-level-1) 1pt solid;\n",
       "  color: var(--sklearn-color-unfitted-level-1);\n",
       "}\n",
       "\n",
       ".sk-estimator-doc-link.fitted,\n",
       "a:link.sk-estimator-doc-link.fitted,\n",
       "a:visited.sk-estimator-doc-link.fitted {\n",
       "  /* fitted */\n",
       "  border: var(--sklearn-color-fitted-level-1) 1pt solid;\n",
       "  color: var(--sklearn-color-fitted-level-1);\n",
       "}\n",
       "\n",
       "/* On hover */\n",
       "div.sk-estimator:hover .sk-estimator-doc-link:hover,\n",
       ".sk-estimator-doc-link:hover,\n",
       "div.sk-label-container:hover .sk-estimator-doc-link:hover,\n",
       ".sk-estimator-doc-link:hover {\n",
       "  /* unfitted */\n",
       "  background-color: var(--sklearn-color-unfitted-level-3);\n",
       "  color: var(--sklearn-color-background);\n",
       "  text-decoration: none;\n",
       "}\n",
       "\n",
       "div.sk-estimator.fitted:hover .sk-estimator-doc-link.fitted:hover,\n",
       ".sk-estimator-doc-link.fitted:hover,\n",
       "div.sk-label-container:hover .sk-estimator-doc-link.fitted:hover,\n",
       ".sk-estimator-doc-link.fitted:hover {\n",
       "  /* fitted */\n",
       "  background-color: var(--sklearn-color-fitted-level-3);\n",
       "  color: var(--sklearn-color-background);\n",
       "  text-decoration: none;\n",
       "}\n",
       "\n",
       "/* Span, style for the box shown on hovering the info icon */\n",
       ".sk-estimator-doc-link span {\n",
       "  display: none;\n",
       "  z-index: 9999;\n",
       "  position: relative;\n",
       "  font-weight: normal;\n",
       "  right: .2ex;\n",
       "  padding: .5ex;\n",
       "  margin: .5ex;\n",
       "  width: min-content;\n",
       "  min-width: 20ex;\n",
       "  max-width: 50ex;\n",
       "  color: var(--sklearn-color-text);\n",
       "  box-shadow: 2pt 2pt 4pt #999;\n",
       "  /* unfitted */\n",
       "  background: var(--sklearn-color-unfitted-level-0);\n",
       "  border: .5pt solid var(--sklearn-color-unfitted-level-3);\n",
       "}\n",
       "\n",
       ".sk-estimator-doc-link.fitted span {\n",
       "  /* fitted */\n",
       "  background: var(--sklearn-color-fitted-level-0);\n",
       "  border: var(--sklearn-color-fitted-level-3);\n",
       "}\n",
       "\n",
       ".sk-estimator-doc-link:hover span {\n",
       "  display: block;\n",
       "}\n",
       "\n",
       "/* \"?\"-specific style due to the `<a>` HTML tag */\n",
       "\n",
       "#sk-container-id-1 a.estimator_doc_link {\n",
       "  float: right;\n",
       "  font-size: 1rem;\n",
       "  line-height: 1em;\n",
       "  font-family: monospace;\n",
       "  background-color: var(--sklearn-color-background);\n",
       "  border-radius: 1rem;\n",
       "  height: 1rem;\n",
       "  width: 1rem;\n",
       "  text-decoration: none;\n",
       "  /* unfitted */\n",
       "  color: var(--sklearn-color-unfitted-level-1);\n",
       "  border: var(--sklearn-color-unfitted-level-1) 1pt solid;\n",
       "}\n",
       "\n",
       "#sk-container-id-1 a.estimator_doc_link.fitted {\n",
       "  /* fitted */\n",
       "  border: var(--sklearn-color-fitted-level-1) 1pt solid;\n",
       "  color: var(--sklearn-color-fitted-level-1);\n",
       "}\n",
       "\n",
       "/* On hover */\n",
       "#sk-container-id-1 a.estimator_doc_link:hover {\n",
       "  /* unfitted */\n",
       "  background-color: var(--sklearn-color-unfitted-level-3);\n",
       "  color: var(--sklearn-color-background);\n",
       "  text-decoration: none;\n",
       "}\n",
       "\n",
       "#sk-container-id-1 a.estimator_doc_link.fitted:hover {\n",
       "  /* fitted */\n",
       "  background-color: var(--sklearn-color-fitted-level-3);\n",
       "}\n",
       "</style><div id=\"sk-container-id-1\" class=\"sk-top-container\"><div class=\"sk-text-repr-fallback\"><pre>ColumnTransformer(transformers=[(&#x27;Ordinal_Encode&#x27;,\n",
       "                                 OrdinalEncoder(categories=[[&#x27;Unknown&#x27;,\n",
       "                                                             &#x27;never smoked&#x27;,\n",
       "                                                             &#x27;formerly smoked&#x27;,\n",
       "                                                             &#x27;smokes&#x27;]]),\n",
       "                                 [&#x27;smoking_status&#x27;]),\n",
       "                                (&#x27;OneHot_Encode&#x27;,\n",
       "                                 OneHotEncoder(handle_unknown=&#x27;ignore&#x27;),\n",
       "                                 [&#x27;gender&#x27;, &#x27;ever_married&#x27;, &#x27;work_type&#x27;,\n",
       "                                  &#x27;Residence_type&#x27;])])</pre><b>In a Jupyter environment, please rerun this cell to show the HTML representation or trust the notebook. <br />On GitHub, the HTML representation is unable to render, please try loading this page with nbviewer.org.</b></div><div class=\"sk-container\" hidden><div class=\"sk-item sk-dashed-wrapped\"><div class=\"sk-label-container\"><div class=\"sk-label fitted sk-toggleable\"><input class=\"sk-toggleable__control sk-hidden--visually\" id=\"sk-estimator-id-1\" type=\"checkbox\" ><label for=\"sk-estimator-id-1\" class=\"sk-toggleable__label fitted sk-toggleable__label-arrow fitted\">&nbsp;&nbsp;ColumnTransformer<a class=\"sk-estimator-doc-link fitted\" rel=\"noreferrer\" target=\"_blank\" href=\"https://scikit-learn.org/1.5/modules/generated/sklearn.compose.ColumnTransformer.html\">?<span>Documentation for ColumnTransformer</span></a><span class=\"sk-estimator-doc-link fitted\">i<span>Fitted</span></span></label><div class=\"sk-toggleable__content fitted\"><pre>ColumnTransformer(transformers=[(&#x27;Ordinal_Encode&#x27;,\n",
       "                                 OrdinalEncoder(categories=[[&#x27;Unknown&#x27;,\n",
       "                                                             &#x27;never smoked&#x27;,\n",
       "                                                             &#x27;formerly smoked&#x27;,\n",
       "                                                             &#x27;smokes&#x27;]]),\n",
       "                                 [&#x27;smoking_status&#x27;]),\n",
       "                                (&#x27;OneHot_Encode&#x27;,\n",
       "                                 OneHotEncoder(handle_unknown=&#x27;ignore&#x27;),\n",
       "                                 [&#x27;gender&#x27;, &#x27;ever_married&#x27;, &#x27;work_type&#x27;,\n",
       "                                  &#x27;Residence_type&#x27;])])</pre></div> </div></div><div class=\"sk-parallel\"><div class=\"sk-parallel-item\"><div class=\"sk-item\"><div class=\"sk-label-container\"><div class=\"sk-label fitted sk-toggleable\"><input class=\"sk-toggleable__control sk-hidden--visually\" id=\"sk-estimator-id-2\" type=\"checkbox\" ><label for=\"sk-estimator-id-2\" class=\"sk-toggleable__label fitted sk-toggleable__label-arrow fitted\">Ordinal_Encode</label><div class=\"sk-toggleable__content fitted\"><pre>[&#x27;smoking_status&#x27;]</pre></div> </div></div><div class=\"sk-serial\"><div class=\"sk-item\"><div class=\"sk-estimator fitted sk-toggleable\"><input class=\"sk-toggleable__control sk-hidden--visually\" id=\"sk-estimator-id-3\" type=\"checkbox\" ><label for=\"sk-estimator-id-3\" class=\"sk-toggleable__label fitted sk-toggleable__label-arrow fitted\">&nbsp;OrdinalEncoder<a class=\"sk-estimator-doc-link fitted\" rel=\"noreferrer\" target=\"_blank\" href=\"https://scikit-learn.org/1.5/modules/generated/sklearn.preprocessing.OrdinalEncoder.html\">?<span>Documentation for OrdinalEncoder</span></a></label><div class=\"sk-toggleable__content fitted\"><pre>OrdinalEncoder(categories=[[&#x27;Unknown&#x27;, &#x27;never smoked&#x27;, &#x27;formerly smoked&#x27;,\n",
       "                            &#x27;smokes&#x27;]])</pre></div> </div></div></div></div></div><div class=\"sk-parallel-item\"><div class=\"sk-item\"><div class=\"sk-label-container\"><div class=\"sk-label fitted sk-toggleable\"><input class=\"sk-toggleable__control sk-hidden--visually\" id=\"sk-estimator-id-4\" type=\"checkbox\" ><label for=\"sk-estimator-id-4\" class=\"sk-toggleable__label fitted sk-toggleable__label-arrow fitted\">OneHot_Encode</label><div class=\"sk-toggleable__content fitted\"><pre>[&#x27;gender&#x27;, &#x27;ever_married&#x27;, &#x27;work_type&#x27;, &#x27;Residence_type&#x27;]</pre></div> </div></div><div class=\"sk-serial\"><div class=\"sk-item\"><div class=\"sk-estimator fitted sk-toggleable\"><input class=\"sk-toggleable__control sk-hidden--visually\" id=\"sk-estimator-id-5\" type=\"checkbox\" ><label for=\"sk-estimator-id-5\" class=\"sk-toggleable__label fitted sk-toggleable__label-arrow fitted\">&nbsp;OneHotEncoder<a class=\"sk-estimator-doc-link fitted\" rel=\"noreferrer\" target=\"_blank\" href=\"https://scikit-learn.org/1.5/modules/generated/sklearn.preprocessing.OneHotEncoder.html\">?<span>Documentation for OneHotEncoder</span></a></label><div class=\"sk-toggleable__content fitted\"><pre>OneHotEncoder(handle_unknown=&#x27;ignore&#x27;)</pre></div> </div></div></div></div></div></div></div></div></div>"
      ],
      "text/plain": [
       "ColumnTransformer(transformers=[('Ordinal_Encode',\n",
       "                                 OrdinalEncoder(categories=[['Unknown',\n",
       "                                                             'never smoked',\n",
       "                                                             'formerly smoked',\n",
       "                                                             'smokes']]),\n",
       "                                 ['smoking_status']),\n",
       "                                ('OneHot_Encode',\n",
       "                                 OneHotEncoder(handle_unknown='ignore'),\n",
       "                                 ['gender', 'ever_married', 'work_type',\n",
       "                                  'Residence_type'])])"
      ]
     },
     "execution_count": 34,
     "metadata": {},
     "output_type": "execute_result"
    }
   ],
   "source": [
    "preprocessor.fit(train_inputs)"
   ]
  },
  {
   "cell_type": "code",
   "execution_count": 35,
   "id": "7f9e6c2d-28f2-40ea-b71b-03d3529c45bc",
   "metadata": {},
   "outputs": [],
   "source": [
    "encoded_cols = list(preprocessor.get_feature_names_out())"
   ]
  },
  {
   "cell_type": "code",
   "execution_count": 36,
   "id": "347ad140-9447-41d0-aea4-201e4b2ac3a6",
   "metadata": {},
   "outputs": [
    {
     "data": {
      "text/plain": [
       "['Ordinal_Encode__smoking_status',\n",
       " 'OneHot_Encode__gender_Female',\n",
       " 'OneHot_Encode__gender_Male',\n",
       " 'OneHot_Encode__ever_married_No',\n",
       " 'OneHot_Encode__ever_married_Yes',\n",
       " 'OneHot_Encode__work_type_Govt_job',\n",
       " 'OneHot_Encode__work_type_Never_worked',\n",
       " 'OneHot_Encode__work_type_Private',\n",
       " 'OneHot_Encode__work_type_Self-employed',\n",
       " 'OneHot_Encode__work_type_children',\n",
       " 'OneHot_Encode__Residence_type_Rural',\n",
       " 'OneHot_Encode__Residence_type_Urban']"
      ]
     },
     "execution_count": 36,
     "metadata": {},
     "output_type": "execute_result"
    }
   ],
   "source": [
    "encoded_cols"
   ]
  },
  {
   "cell_type": "code",
   "execution_count": 37,
   "id": "ba4333dc-1983-48a4-be1a-86fe853ddc47",
   "metadata": {},
   "outputs": [],
   "source": [
    "train_inputs[encoded_cols] = preprocessor.transform(train_inputs)\n",
    "test_inputs[encoded_cols] = preprocessor.transform(test_inputs)"
   ]
  },
  {
   "cell_type": "code",
   "execution_count": 38,
   "id": "6fb30bc6-a479-4793-a592-1a67c997208c",
   "metadata": {},
   "outputs": [],
   "source": [
    "X_train = train_inputs[numerical_cols + encoded_cols]\n",
    "y_train = df[target_col]\n",
    "\n",
    "X_test = test_inputs[numerical_cols + encoded_cols]"
   ]
  },
  {
   "cell_type": "code",
   "execution_count": 39,
   "id": "ba7ce998-98ea-4c24-b7b7-4057b5d66bdc",
   "metadata": {},
   "outputs": [
    {
     "data": {
      "text/html": [
       "<div>\n",
       "<style scoped>\n",
       "    .dataframe tbody tr th:only-of-type {\n",
       "        vertical-align: middle;\n",
       "    }\n",
       "\n",
       "    .dataframe tbody tr th {\n",
       "        vertical-align: top;\n",
       "    }\n",
       "\n",
       "    .dataframe thead th {\n",
       "        text-align: right;\n",
       "    }\n",
       "</style>\n",
       "<table border=\"1\" class=\"dataframe\">\n",
       "  <thead>\n",
       "    <tr style=\"text-align: right;\">\n",
       "      <th></th>\n",
       "      <th>age</th>\n",
       "      <th>hypertension</th>\n",
       "      <th>heart_disease</th>\n",
       "      <th>avg_glucose_level</th>\n",
       "      <th>bmi</th>\n",
       "      <th>Ordinal_Encode__smoking_status</th>\n",
       "      <th>OneHot_Encode__gender_Female</th>\n",
       "      <th>OneHot_Encode__gender_Male</th>\n",
       "      <th>OneHot_Encode__ever_married_No</th>\n",
       "      <th>OneHot_Encode__ever_married_Yes</th>\n",
       "      <th>OneHot_Encode__work_type_Govt_job</th>\n",
       "      <th>OneHot_Encode__work_type_Never_worked</th>\n",
       "      <th>OneHot_Encode__work_type_Private</th>\n",
       "      <th>OneHot_Encode__work_type_Self-employed</th>\n",
       "      <th>OneHot_Encode__work_type_children</th>\n",
       "      <th>OneHot_Encode__Residence_type_Rural</th>\n",
       "      <th>OneHot_Encode__Residence_type_Urban</th>\n",
       "    </tr>\n",
       "  </thead>\n",
       "  <tbody>\n",
       "    <tr>\n",
       "      <th>0</th>\n",
       "      <td>67.0</td>\n",
       "      <td>0</td>\n",
       "      <td>1</td>\n",
       "      <td>228.69</td>\n",
       "      <td>36.600000</td>\n",
       "      <td>2.0</td>\n",
       "      <td>0.0</td>\n",
       "      <td>1.0</td>\n",
       "      <td>0.0</td>\n",
       "      <td>1.0</td>\n",
       "      <td>0.0</td>\n",
       "      <td>0.0</td>\n",
       "      <td>1.0</td>\n",
       "      <td>0.0</td>\n",
       "      <td>0.0</td>\n",
       "      <td>0.0</td>\n",
       "      <td>1.0</td>\n",
       "    </tr>\n",
       "    <tr>\n",
       "      <th>1</th>\n",
       "      <td>61.0</td>\n",
       "      <td>0</td>\n",
       "      <td>0</td>\n",
       "      <td>202.21</td>\n",
       "      <td>28.893237</td>\n",
       "      <td>1.0</td>\n",
       "      <td>1.0</td>\n",
       "      <td>0.0</td>\n",
       "      <td>0.0</td>\n",
       "      <td>1.0</td>\n",
       "      <td>0.0</td>\n",
       "      <td>0.0</td>\n",
       "      <td>0.0</td>\n",
       "      <td>1.0</td>\n",
       "      <td>0.0</td>\n",
       "      <td>1.0</td>\n",
       "      <td>0.0</td>\n",
       "    </tr>\n",
       "    <tr>\n",
       "      <th>2</th>\n",
       "      <td>80.0</td>\n",
       "      <td>0</td>\n",
       "      <td>1</td>\n",
       "      <td>105.92</td>\n",
       "      <td>32.500000</td>\n",
       "      <td>1.0</td>\n",
       "      <td>0.0</td>\n",
       "      <td>1.0</td>\n",
       "      <td>0.0</td>\n",
       "      <td>1.0</td>\n",
       "      <td>0.0</td>\n",
       "      <td>0.0</td>\n",
       "      <td>1.0</td>\n",
       "      <td>0.0</td>\n",
       "      <td>0.0</td>\n",
       "      <td>1.0</td>\n",
       "      <td>0.0</td>\n",
       "    </tr>\n",
       "    <tr>\n",
       "      <th>3</th>\n",
       "      <td>49.0</td>\n",
       "      <td>0</td>\n",
       "      <td>0</td>\n",
       "      <td>171.23</td>\n",
       "      <td>34.400000</td>\n",
       "      <td>3.0</td>\n",
       "      <td>1.0</td>\n",
       "      <td>0.0</td>\n",
       "      <td>0.0</td>\n",
       "      <td>1.0</td>\n",
       "      <td>0.0</td>\n",
       "      <td>0.0</td>\n",
       "      <td>1.0</td>\n",
       "      <td>0.0</td>\n",
       "      <td>0.0</td>\n",
       "      <td>0.0</td>\n",
       "      <td>1.0</td>\n",
       "    </tr>\n",
       "    <tr>\n",
       "      <th>4</th>\n",
       "      <td>79.0</td>\n",
       "      <td>1</td>\n",
       "      <td>0</td>\n",
       "      <td>174.12</td>\n",
       "      <td>24.000000</td>\n",
       "      <td>1.0</td>\n",
       "      <td>1.0</td>\n",
       "      <td>0.0</td>\n",
       "      <td>0.0</td>\n",
       "      <td>1.0</td>\n",
       "      <td>0.0</td>\n",
       "      <td>0.0</td>\n",
       "      <td>0.0</td>\n",
       "      <td>1.0</td>\n",
       "      <td>0.0</td>\n",
       "      <td>1.0</td>\n",
       "      <td>0.0</td>\n",
       "    </tr>\n",
       "  </tbody>\n",
       "</table>\n",
       "</div>"
      ],
      "text/plain": [
       "    age  hypertension  heart_disease  avg_glucose_level        bmi  \\\n",
       "0  67.0             0              1             228.69  36.600000   \n",
       "1  61.0             0              0             202.21  28.893237   \n",
       "2  80.0             0              1             105.92  32.500000   \n",
       "3  49.0             0              0             171.23  34.400000   \n",
       "4  79.0             1              0             174.12  24.000000   \n",
       "\n",
       "   Ordinal_Encode__smoking_status  OneHot_Encode__gender_Female  \\\n",
       "0                             2.0                           0.0   \n",
       "1                             1.0                           1.0   \n",
       "2                             1.0                           0.0   \n",
       "3                             3.0                           1.0   \n",
       "4                             1.0                           1.0   \n",
       "\n",
       "   OneHot_Encode__gender_Male  OneHot_Encode__ever_married_No  \\\n",
       "0                         1.0                             0.0   \n",
       "1                         0.0                             0.0   \n",
       "2                         1.0                             0.0   \n",
       "3                         0.0                             0.0   \n",
       "4                         0.0                             0.0   \n",
       "\n",
       "   OneHot_Encode__ever_married_Yes  OneHot_Encode__work_type_Govt_job  \\\n",
       "0                              1.0                                0.0   \n",
       "1                              1.0                                0.0   \n",
       "2                              1.0                                0.0   \n",
       "3                              1.0                                0.0   \n",
       "4                              1.0                                0.0   \n",
       "\n",
       "   OneHot_Encode__work_type_Never_worked  OneHot_Encode__work_type_Private  \\\n",
       "0                                    0.0                               1.0   \n",
       "1                                    0.0                               0.0   \n",
       "2                                    0.0                               1.0   \n",
       "3                                    0.0                               1.0   \n",
       "4                                    0.0                               0.0   \n",
       "\n",
       "   OneHot_Encode__work_type_Self-employed  OneHot_Encode__work_type_children  \\\n",
       "0                                     0.0                                0.0   \n",
       "1                                     1.0                                0.0   \n",
       "2                                     0.0                                0.0   \n",
       "3                                     0.0                                0.0   \n",
       "4                                     1.0                                0.0   \n",
       "\n",
       "   OneHot_Encode__Residence_type_Rural  OneHot_Encode__Residence_type_Urban  \n",
       "0                                  0.0                                  1.0  \n",
       "1                                  1.0                                  0.0  \n",
       "2                                  1.0                                  0.0  \n",
       "3                                  0.0                                  1.0  \n",
       "4                                  1.0                                  0.0  "
      ]
     },
     "execution_count": 39,
     "metadata": {},
     "output_type": "execute_result"
    }
   ],
   "source": [
    "X_train.head()"
   ]
  },
  {
   "cell_type": "code",
   "execution_count": 40,
   "id": "54835783-3c23-41f4-bc15-e0f16fe0e272",
   "metadata": {},
   "outputs": [
    {
     "data": {
      "text/plain": [
       "True"
      ]
     },
     "execution_count": 40,
     "metadata": {},
     "output_type": "execute_result"
    }
   ],
   "source": [
    "X_train.shape[1] == X_test.shape[1]"
   ]
  },
  {
   "cell_type": "markdown",
   "id": "d48b24f3-3120-47e7-a351-f06c3aa0d56d",
   "metadata": {},
   "source": [
    "# Split Dataset into training and validation set"
   ]
  },
  {
   "cell_type": "code",
   "execution_count": 41,
   "id": "0805bad9-aa54-4023-98ef-73db62c91a6e",
   "metadata": {},
   "outputs": [],
   "source": [
    "from sklearn.model_selection import train_test_split"
   ]
  },
  {
   "cell_type": "code",
   "execution_count": 42,
   "id": "665b97bc-a0a5-49a3-987a-a6934c36d053",
   "metadata": {},
   "outputs": [],
   "source": [
    "X_train, X_val, y_train, y_val = train_test_split(X_train, y_train, test_size=0.2, random_state=42)"
   ]
  },
  {
   "cell_type": "code",
   "execution_count": 43,
   "id": "59adb411-de01-4c75-a3bb-36e96e1865d4",
   "metadata": {},
   "outputs": [
    {
     "data": {
      "text/plain": [
       "(4087, 17)"
      ]
     },
     "execution_count": 43,
     "metadata": {},
     "output_type": "execute_result"
    }
   ],
   "source": [
    "X_train.shape"
   ]
  },
  {
   "cell_type": "markdown",
   "id": "359ab62c-2e75-4a66-86ea-4096da400fe2",
   "metadata": {},
   "source": [
    "# Baseline Model"
   ]
  },
  {
   "cell_type": "code",
   "execution_count": 44,
   "id": "3cd9d900-5563-4e08-b6d0-4bd0842b78db",
   "metadata": {},
   "outputs": [],
   "source": [
    "from sklearn.linear_model import LogisticRegression\n",
    "from sklearn.ensemble import RandomForestClassifier\n",
    "from xgboost import XGBClassifier\n",
    "from sklearn.svm import SVC\n",
    "from imblearn.over_sampling import SMOTE\n",
    "from sklearn.compose import ColumnTransformer\n",
    "from sklearn.pipeline import Pipeline\n",
    "from imblearn.pipeline import Pipeline as ImbPipeline\n",
    "from sklearn.metrics import confusion_matrix, accuracy_score, precision_score, recall_score, f1_score ,roc_auc_score , roc_curve"
   ]
  },
  {
   "cell_type": "code",
   "execution_count": 45,
   "id": "b0dbbbb4-19cc-401b-a960-48f9bf9ca863",
   "metadata": {},
   "outputs": [],
   "source": [
    "models = [\n",
    "    (LogisticRegression(), 'LogisticRegression'), \n",
    "    (RandomForestClassifier(), 'RandomForestClassifier'), \n",
    "    (XGBClassifier(), 'XGBClassifier'), \n",
    "]"
   ]
  },
  {
   "cell_type": "code",
   "execution_count": 46,
   "id": "fcffff03-d4cc-4524-af03-e42e25822ff8",
   "metadata": {},
   "outputs": [],
   "source": [
    "def evalue_model(model, X_train, y_train, X_val, y_val):\n",
    "    y_pred = model.predict(X_val)\n",
    "    confusion_mat = confusion_matrix(y_val, y_pred)\n",
    "    accuracy = accuracy_score(y_val, y_pred)\n",
    "    precision = precision_score(y_val, y_pred)\n",
    "    recall = recall_score(y_val, y_pred)\n",
    "    f1 = f1_score(y_val, y_pred)\n",
    "    return confusion_mat, accuracy, precision, recall, f1"
   ]
  },
  {
   "cell_type": "code",
   "execution_count": 47,
   "id": "0af1f672-3867-4b3a-aac0-a79ac2e0ad20",
   "metadata": {},
   "outputs": [],
   "source": [
    "confusion_mats = {}\n",
    "def metric_df(model, model_name):\n",
    "    confusion_mat, *df = evalue_model(model, X_train, y_train, X_val, y_val)\n",
    "    confusion_mats[model_name] = confusion_mat\n",
    "    df = [df]\n",
    "    model_metrics = pd.DataFrame(data = df, columns=['Accuarcy','Precision', 'Recall', 'F1'])\n",
    "    model_metrics.insert(0, 'Model', model_name)\n",
    "    \n",
    "    return model_metrics"
   ]
  },
  {
   "cell_type": "markdown",
   "id": "90755424-fd12-4ac6-9220-2ef5ca2067d8",
   "metadata": {},
   "source": [
    "# Making Predictions\n",
    "Use the trained model to predict outcomes on the test set."
   ]
  },
  {
   "cell_type": "code",
   "execution_count": 48,
   "id": "caca99e0-a7c4-486d-af19-b700572661de",
   "metadata": {},
   "outputs": [],
   "source": [
    "predictions = []\n",
    "for model, model_name in models:\n",
    "    model.fit(X_train, y_train)\n",
    "    model_metrics = metric_df(model, model_name)\n",
    "    predictions.append(model_metrics)"
   ]
  },
  {
   "cell_type": "code",
   "execution_count": 49,
   "id": "132bb685-afbe-4244-89cc-8562ec2c5a97",
   "metadata": {},
   "outputs": [
    {
     "data": {
      "text/plain": [
       "[                Model  Accuarcy  Precision  Recall   F1\n",
       " 0  LogisticRegression  0.939335        0.0     0.0  0.0,\n",
       "                     Model  Accuarcy  Precision  Recall   F1\n",
       " 0  RandomForestClassifier  0.938356        0.0     0.0  0.0,\n",
       "            Model  Accuarcy  Precision    Recall   F1\n",
       " 0  XGBClassifier  0.937378   0.444444  0.129032  0.2]"
      ]
     },
     "execution_count": 49,
     "metadata": {},
     "output_type": "execute_result"
    }
   ],
   "source": [
    "predictions"
   ]
  },
  {
   "cell_type": "code",
   "execution_count": 50,
   "id": "459f923b-b544-472b-9921-a653e9461a6c",
   "metadata": {},
   "outputs": [
    {
     "name": "stderr",
     "output_type": "stream",
     "text": [
      "  File \"C:\\Users\\nk026\\anaconda3\\Lib\\site-packages\\joblib\\externals\\loky\\backend\\context.py\", line 257, in _count_physical_cores\n",
      "    cpu_info = subprocess.run(\n",
      "               ^^^^^^^^^^^^^^^\n",
      "  File \"C:\\Users\\nk026\\anaconda3\\Lib\\subprocess.py\", line 548, in run\n",
      "    with Popen(*popenargs, **kwargs) as process:\n",
      "         ^^^^^^^^^^^^^^^^^^^^^^^^^^^\n",
      "  File \"C:\\Users\\nk026\\anaconda3\\Lib\\subprocess.py\", line 1026, in __init__\n",
      "    self._execute_child(args, executable, preexec_fn, close_fds,\n",
      "  File \"C:\\Users\\nk026\\anaconda3\\Lib\\subprocess.py\", line 1538, in _execute_child\n",
      "    hp, ht, pid, tid = _winapi.CreateProcess(executable, args,\n",
      "                       ^^^^^^^^^^^^^^^^^^^^^^^^^^^^^^^^^^^^^^^\n"
     ]
    }
   ],
   "source": [
    "oversample = SMOTE()\n",
    "X_train_ns, y_train_ns = oversample.fit_resample(X_train, y_train)"
   ]
  },
  {
   "cell_type": "code",
   "execution_count": 51,
   "id": "651ee946-8a65-4840-bd64-cd136e5502a4",
   "metadata": {},
   "outputs": [
    {
     "data": {
      "text/plain": [
       "(7800, 17)"
      ]
     },
     "execution_count": 51,
     "metadata": {},
     "output_type": "execute_result"
    }
   ],
   "source": [
    "X_train_ns.shape"
   ]
  },
  {
   "cell_type": "code",
   "execution_count": 52,
   "id": "5a7dad31-efa5-4931-aebf-90ee80201df1",
   "metadata": {},
   "outputs": [],
   "source": [
    "lr_with_smote = LogisticRegression()\n",
    "lr_with_smote.fit(X_train_ns, y_train_ns)\n",
    "lr_with_smote_mat = metric_df(lr_with_smote, 'Logistic With SMOTE')\n",
    "predictions.append(lr_with_smote_mat)"
   ]
  },
  {
   "cell_type": "code",
   "execution_count": 53,
   "id": "de1e7c92-f5b0-421c-acb5-ab1aae85e2b9",
   "metadata": {},
   "outputs": [
    {
     "name": "stdout",
     "output_type": "stream",
     "text": [
      "Confusion Matrix for LogisticRegression\n",
      "[[960   0]\n",
      " [ 62   0]]\n",
      "\n",
      "Confusion Matrix for RandomForestClassifier\n",
      "[[959   1]\n",
      " [ 62   0]]\n",
      "\n",
      "Confusion Matrix for XGBClassifier\n",
      "[[950  10]\n",
      " [ 54   8]]\n",
      "\n",
      "Confusion Matrix for Logistic With SMOTE\n",
      "[[731 229]\n",
      " [ 16  46]]\n",
      "\n"
     ]
    }
   ],
   "source": [
    "for model_name , confusion_mat in confusion_mats.items():\n",
    "    print(f'Confusion Matrix for {model_name}')\n",
    "    print(confusion_mat)\n",
    "    print()"
   ]
  },
  {
   "cell_type": "code",
   "execution_count": 54,
   "id": "ae185d82-c1dd-4e47-8445-6a3ed426a97b",
   "metadata": {},
   "outputs": [],
   "source": [
    "estimator = []\n",
    "estimator.append(('LogisticRegression', LogisticRegression())), \n",
    "estimator.append(('RandomForestClassifier', RandomForestClassifier())), \n",
    "estimator.append(('XGBClassifier', XGBClassifier()))"
   ]
  },
  {
   "cell_type": "code",
   "execution_count": 55,
   "id": "2db911e0-6c58-46fd-9526-e6db3ac9c043",
   "metadata": {},
   "outputs": [],
   "source": [
    "prediction_base = pd.concat(predictions, ignore_index=True, sort =False)\n",
    "prediction_base = prediction_base.sort_values(by=['Recall'], ascending=False).style.hide(axis = 'index')"
   ]
  },
  {
   "cell_type": "code",
   "execution_count": 56,
   "id": "bcb7a234-1154-4460-b7bb-7c637214648d",
   "metadata": {},
   "outputs": [
    {
     "data": {
      "text/html": [
       "<style type=\"text/css\">\n",
       "</style>\n",
       "<table id=\"T_71682\">\n",
       "  <thead>\n",
       "    <tr>\n",
       "      <th id=\"T_71682_level0_col0\" class=\"col_heading level0 col0\" >Model</th>\n",
       "      <th id=\"T_71682_level0_col1\" class=\"col_heading level0 col1\" >Accuarcy</th>\n",
       "      <th id=\"T_71682_level0_col2\" class=\"col_heading level0 col2\" >Precision</th>\n",
       "      <th id=\"T_71682_level0_col3\" class=\"col_heading level0 col3\" >Recall</th>\n",
       "      <th id=\"T_71682_level0_col4\" class=\"col_heading level0 col4\" >F1</th>\n",
       "    </tr>\n",
       "  </thead>\n",
       "  <tbody>\n",
       "    <tr>\n",
       "      <td id=\"T_71682_row0_col0\" class=\"data row0 col0\" >Logistic With SMOTE</td>\n",
       "      <td id=\"T_71682_row0_col1\" class=\"data row0 col1\" >0.760274</td>\n",
       "      <td id=\"T_71682_row0_col2\" class=\"data row0 col2\" >0.167273</td>\n",
       "      <td id=\"T_71682_row0_col3\" class=\"data row0 col3\" >0.741935</td>\n",
       "      <td id=\"T_71682_row0_col4\" class=\"data row0 col4\" >0.272997</td>\n",
       "    </tr>\n",
       "    <tr>\n",
       "      <td id=\"T_71682_row1_col0\" class=\"data row1 col0\" >XGBClassifier</td>\n",
       "      <td id=\"T_71682_row1_col1\" class=\"data row1 col1\" >0.937378</td>\n",
       "      <td id=\"T_71682_row1_col2\" class=\"data row1 col2\" >0.444444</td>\n",
       "      <td id=\"T_71682_row1_col3\" class=\"data row1 col3\" >0.129032</td>\n",
       "      <td id=\"T_71682_row1_col4\" class=\"data row1 col4\" >0.200000</td>\n",
       "    </tr>\n",
       "    <tr>\n",
       "      <td id=\"T_71682_row2_col0\" class=\"data row2 col0\" >LogisticRegression</td>\n",
       "      <td id=\"T_71682_row2_col1\" class=\"data row2 col1\" >0.939335</td>\n",
       "      <td id=\"T_71682_row2_col2\" class=\"data row2 col2\" >0.000000</td>\n",
       "      <td id=\"T_71682_row2_col3\" class=\"data row2 col3\" >0.000000</td>\n",
       "      <td id=\"T_71682_row2_col4\" class=\"data row2 col4\" >0.000000</td>\n",
       "    </tr>\n",
       "    <tr>\n",
       "      <td id=\"T_71682_row3_col0\" class=\"data row3 col0\" >RandomForestClassifier</td>\n",
       "      <td id=\"T_71682_row3_col1\" class=\"data row3 col1\" >0.938356</td>\n",
       "      <td id=\"T_71682_row3_col2\" class=\"data row3 col2\" >0.000000</td>\n",
       "      <td id=\"T_71682_row3_col3\" class=\"data row3 col3\" >0.000000</td>\n",
       "      <td id=\"T_71682_row3_col4\" class=\"data row3 col4\" >0.000000</td>\n",
       "    </tr>\n",
       "  </tbody>\n",
       "</table>\n"
      ],
      "text/plain": [
       "<pandas.io.formats.style.Styler at 0x243a4388140>"
      ]
     },
     "execution_count": 56,
     "metadata": {},
     "output_type": "execute_result"
    }
   ],
   "source": [
    "prediction_base"
   ]
  },
  {
   "cell_type": "code",
   "execution_count": 57,
   "id": "aeb18f55-410c-4246-b7bf-86d5daf48c72",
   "metadata": {},
   "outputs": [
    {
     "name": "stdout",
     "output_type": "stream",
     "text": [
      "Model Comparison Results:\n",
      "\n",
      "                 Model  Accuracy  Precision  Recall  F1-Score\n",
      "0  Logistic With SMOTE     0.756      0.165   0.742      0.27\n",
      "1              XGBoost     0.937      0.444   0.129      0.20\n",
      "2  Logistic Regression     0.939      0.000   0.000      0.00\n",
      "3        Random Forest     0.938      0.000   0.000      0.00\n"
     ]
    },
    {
     "data": {
      "image/png": "[encoded data removed]",
      "text/plain": [
       "<Figure size 1000x400 with 1 Axes>"
      ]
     },
     "metadata": {},
     "output_type": "display_data"
    }
   ],
   "source": [
    "results = {\n",
    "    \"Model\": [\"Logistic With SMOTE\", \"XGBoost\", \"Logistic Regression\", \"Random Forest\"],\n",
    "    \"Accuracy\": [0.756, 0.937, 0.939, 0.938],\n",
    "    \"Precision\": [0.165, 0.444, 0.0, 0.0],\n",
    "    \"Recall\": [0.742, 0.129, 0.0, 0.0],\n",
    "    \"F1-Score\": [0.270, 0.200, 0.0, 0.0]\n",
    "}\n",
    "\n",
    "# Convert to DataFrame\n",
    "results_df = pd.DataFrame(results)\n",
    "\n",
    "# Print the table\n",
    "print(\"Model Comparison Results:\\n\")\n",
    "print(results_df)\n",
    "\n",
    "# Plot comparison\n",
    "results_df.plot(\n",
    "    x=\"Model\", \n",
    "    y=[\"Accuracy\",\"Precision\",\"Recall\",\"F1-Score\"], \n",
    "    kind=\"bar\", \n",
    "    figsize=(10,4)\n",
    ")\n",
    "plt.title(\"Model Performance Comparison\")\n",
    "plt.ylabel(\"Score\")\n",
    "plt.xticks(rotation=0)\n",
    "plt.legend(loc=\"upper right\")\n",
    "plt.show()"
   ]
  },
  {
   "cell_type": "code",
   "execution_count": 58,
   "id": "291b34cf-5b4e-4116-acf5-4ca4ea01ba59",
   "metadata": {},
   "outputs": [],
   "source": [
    "df_encoded = df.copy()\n",
    "\n",
    "binary_cols = ['gender', 'ever_married', 'Residence_type']\n",
    "for col in binary_cols:\n",
    "    le = LabelEncoder()\n",
    "    df_encoded[col] = le.fit_transform(df_encoded[col])"
   ]
  },
  {
   "cell_type": "code",
   "execution_count": 59,
   "id": "1d8869f8-ff27-4031-b470-54ef811b58ca",
   "metadata": {},
   "outputs": [],
   "source": [
    "df_encoded = pd.get_dummies(df_encoded, columns=['work_type', 'smoking_status'], drop_first=True)\n",
    "\n",
    "X = df_encoded.drop('stroke', axis=1)\n",
    "y = df_encoded['stroke']"
   ]
  },
  {
   "cell_type": "code",
   "execution_count": 60,
   "id": "a90b5463-c3bc-486e-9bf5-60415b5cb50f",
   "metadata": {},
   "outputs": [
    {
     "name": "stdout",
     "output_type": "stream",
     "text": [
      "✅ Data Encoded & Split Done!\n",
      "Train Shape: (4087, 16)\n",
      "Test Shape: (1022, 16)\n"
     ]
    }
   ],
   "source": [
    "X_train, X_test, y_train, y_test = train_test_split(X, y, test_size=0.2, random_state=42, stratify=y )\n",
    "\n",
    "print(\"✅ Data Encoded & Split Done!\")\n",
    "print(\"Train Shape:\", X_train.shape)\n",
    "print(\"Test Shape:\", X_test.shape)"
   ]
  },
  {
   "cell_type": "code",
   "execution_count": 61,
   "id": "ed79c20c-7e1e-42b8-a4a2-c4f6d4074a43",
   "metadata": {},
   "outputs": [],
   "source": [
    "models = {\n",
    "    \"Logistic Regression\": LogisticRegression(max_iter=1000, solver='lbfgs'),\n",
    "    \"Random Forest\": RandomForestClassifier(random_state=42),\n",
    "    \"XGBoost\": XGBClassifier(eval_metric='logloss', random_state=42),\n",
    "    \"SVM\": SVC(probability=True, random_state=42)\n",
    "}"
   ]
  },
  {
   "cell_type": "code",
   "execution_count": 62,
   "id": "4d4cce16-83d0-4559-81bb-382a7596cedd",
   "metadata": {},
   "outputs": [
    {
     "data": {
      "image/png": "[encoded data removed]",
      "text/plain": [
       "<Figure size 800x600 with 1 Axes>"
      ]
     },
     "metadata": {},
     "output_type": "display_data"
    }
   ],
   "source": [
    "results = []\n",
    "plt.figure(figsize=(8, 6))\n",
    "\n",
    "for name, model in models.items():\n",
    "    model.fit(X_train, y_train)\n",
    "    y_pred = model.predict(X_test)\n",
    "\n",
    "    try:\n",
    "        y_prob = model.predict_proba(X_test)[:, 1]\n",
    "    except:\n",
    "        y_scores = model.decision_function(X_test)\n",
    "        y_prob = (y_scores - y_scores.min()) / (y_scores.max() - y_scores.min())\n",
    "\n",
    "    acc = accuracy_score(y_test, y_pred)\n",
    "    f1 = f1_score(y_test, y_pred)\n",
    "    roc_auc = roc_auc_score(y_test, y_prob)\n",
    "    results.append([name, acc, f1, roc_auc])\n",
    "\n",
    "    fpr, tpr, _ = roc_curve(y_test, y_prob)\n",
    "    plt.plot(fpr, tpr, label=f\"{name} (AUC={roc_auc:.2f})\")\n",
    "    \n",
    "plt.plot([0, 1], [0, 1], 'k--')\n",
    "plt.xlabel(\"False Positive Rate\")\n",
    "plt.ylabel(\"True Positive Rate\")\n",
    "plt.title(\"ROC-AUC Curve Comparison\")\n",
    "plt.legend()\n",
    "plt.show()"
   ]
  },
  {
   "cell_type": "code",
   "execution_count": 63,
   "id": "4c110ad1-12d8-47bd-9e57-ab42e40b8aa3",
   "metadata": {},
   "outputs": [
    {
     "data": {
      "text/html": [
       "<style type=\"text/css\">\n",
       "#T_d95fe_row0_col1, #T_d95fe_row0_col3, #T_d95fe_row1_col2 {\n",
       "  background-color: #08306b;\n",
       "  color: #f1f1f1;\n",
       "}\n",
       "#T_d95fe_row0_col2 {\n",
       "  background-color: #c7dbef;\n",
       "  color: #000000;\n",
       "}\n",
       "#T_d95fe_row1_col1, #T_d95fe_row3_col2, #T_d95fe_row3_col3 {\n",
       "  background-color: #f7fbff;\n",
       "  color: #000000;\n",
       "}\n",
       "#T_d95fe_row1_col3 {\n",
       "  background-color: #084c95;\n",
       "  color: #f1f1f1;\n",
       "}\n",
       "#T_d95fe_row2_col1, #T_d95fe_row3_col1 {\n",
       "  background-color: #2171b5;\n",
       "  color: #f1f1f1;\n",
       "}\n",
       "#T_d95fe_row2_col2 {\n",
       "  background-color: #c7dcef;\n",
       "  color: #000000;\n",
       "}\n",
       "#T_d95fe_row2_col3 {\n",
       "  background-color: #0e58a2;\n",
       "  color: #f1f1f1;\n",
       "}\n",
       "</style>\n",
       "<table id=\"T_d95fe\">\n",
       "  <thead>\n",
       "    <tr>\n",
       "      <th class=\"blank level0\" >&nbsp;</th>\n",
       "      <th id=\"T_d95fe_level0_col0\" class=\"col_heading level0 col0\" >Model</th>\n",
       "      <th id=\"T_d95fe_level0_col1\" class=\"col_heading level0 col1\" >Accuracy</th>\n",
       "      <th id=\"T_d95fe_level0_col2\" class=\"col_heading level0 col2\" >F1-Score</th>\n",
       "      <th id=\"T_d95fe_level0_col3\" class=\"col_heading level0 col3\" >ROC-AUC</th>\n",
       "    </tr>\n",
       "  </thead>\n",
       "  <tbody>\n",
       "    <tr>\n",
       "      <th id=\"T_d95fe_level0_row0\" class=\"row_heading level0 row0\" >0</th>\n",
       "      <td id=\"T_d95fe_row0_col0\" class=\"data row0 col0\" >Logistic Regression</td>\n",
       "      <td id=\"T_d95fe_row0_col1\" class=\"data row0 col1\" >0.952055</td>\n",
       "      <td id=\"T_d95fe_row0_col2\" class=\"data row0 col2\" >0.039216</td>\n",
       "      <td id=\"T_d95fe_row0_col3\" class=\"data row0 col3\" >0.834136</td>\n",
       "    </tr>\n",
       "    <tr>\n",
       "      <th id=\"T_d95fe_level0_row1\" class=\"row_heading level0 row1\" >2</th>\n",
       "      <td id=\"T_d95fe_row1_col0\" class=\"data row1 col0\" >XGBoost</td>\n",
       "      <td id=\"T_d95fe_row1_col1\" class=\"data row1 col1\" >0.948141</td>\n",
       "      <td id=\"T_d95fe_row1_col2\" class=\"data row1 col2\" >0.158730</td>\n",
       "      <td id=\"T_d95fe_row1_col3\" class=\"data row1 col3\" >0.798868</td>\n",
       "    </tr>\n",
       "    <tr>\n",
       "      <th id=\"T_d95fe_level0_row2\" class=\"row_heading level0 row2\" >1</th>\n",
       "      <td id=\"T_d95fe_row2_col0\" class=\"data row2 col0\" >Random Forest</td>\n",
       "      <td id=\"T_d95fe_row2_col1\" class=\"data row2 col1\" >0.951076</td>\n",
       "      <td id=\"T_d95fe_row2_col2\" class=\"data row2 col2\" >0.038462</td>\n",
       "      <td id=\"T_d95fe_row2_col3\" class=\"data row2 col3\" >0.784506</td>\n",
       "    </tr>\n",
       "    <tr>\n",
       "      <th id=\"T_d95fe_level0_row3\" class=\"row_heading level0 row3\" >3</th>\n",
       "      <td id=\"T_d95fe_row3_col0\" class=\"data row3 col0\" >SVM</td>\n",
       "      <td id=\"T_d95fe_row3_col1\" class=\"data row3 col1\" >0.951076</td>\n",
       "      <td id=\"T_d95fe_row3_col2\" class=\"data row3 col2\" >0.000000</td>\n",
       "      <td id=\"T_d95fe_row3_col3\" class=\"data row3 col3\" >0.511070</td>\n",
       "    </tr>\n",
       "  </tbody>\n",
       "</table>\n"
      ],
      "text/plain": [
       "<pandas.io.formats.style.Styler at 0x2439f1d27e0>"
      ]
     },
     "metadata": {},
     "output_type": "display_data"
    }
   ],
   "source": [
    "results_df = pd.DataFrame(results, columns=[\"Model\", \"Accuracy\", \"F1-Score\", \"ROC-AUC\"])\n",
    "results_df = results_df.sort_values(by=\"ROC-AUC\", ascending=False)\n",
    "display(results_df.style.background_gradient(cmap=\"Blues\"))"
   ]
  },
  {
   "cell_type": "markdown",
   "id": "6e61422a-0845-4bae-bab0-88726901eb21",
   "metadata": {},
   "source": [
    "# Visual Evaluation - Confusion Matrix"
   ]
  },
  {
   "cell_type": "code",
   "execution_count": 64,
   "id": "669a2405-6fdc-485a-a799-407bb5c2f7d1",
   "metadata": {},
   "outputs": [],
   "source": [
    "models_to_plot = [\n",
    "    'LogisticRegression', \n",
    "    'RandomForestClassifier', \n",
    "    'XGBClassifier', \n",
    "    'Logistic With SMOTE'\n",
    "]"
   ]
  },
  {
   "cell_type": "code",
   "execution_count": 65,
   "id": "90751f90-07a6-487e-b3c0-563dd7d349c1",
   "metadata": {},
   "outputs": [
    {
     "data": {
      "image/png": "[encoded data removed]",
      "text/plain": [
       "<Figure size 800x600 with 8 Axes>"
      ]
     },
     "metadata": {},
     "output_type": "display_data"
    }
   ],
   "source": [
    "fig, axes = plt.subplots(nrows = 2, ncols =2, figsize = (8, 6))\n",
    "for ax, model_name in zip(axes.ravel(), models_to_plot):\n",
    "    confusion_mat = confusion_mats[model_name]\n",
    "    sns.heatmap(confusion_mat, annot=True, fmt='d', cmap = 'Blues', ax = ax)\n",
    "    ax.set_title(f'{model_name}')\n",
    "    ax.set_xlabel('Predicted')\n",
    "    ax.set_ylabel('Actual')\n",
    "\n",
    "plt.tight_layout()\n",
    "plt.subplots_adjust(left=0, right = 0.9, top =0.9, bottom = 0)\n",
    "plt.show()"
   ]
  },
  {
   "cell_type": "markdown",
   "id": "1076c669-963e-473b-aeab-d4548f2a1602",
   "metadata": {},
   "source": [
    "## Deploy"
   ]
  },
  {
   "cell_type": "code",
   "execution_count": 66,
   "id": "0463ef17-7b5c-4d0b-9009-d41a54295910",
   "metadata": {},
   "outputs": [],
   "source": [
    "import joblib"
   ]
  },
  {
   "cell_type": "code",
   "execution_count": 67,
   "id": "9c17dedd-4414-4c4d-8d28-6c478a5e73e1",
   "metadata": {},
   "outputs": [],
   "source": [
    "model = {\n",
    "    'encoded_cols': encoded_cols, \n",
    "    'numeric_cols':numerical_cols, \n",
    "    'preprocessor': preprocessor, \n",
    "    'model': lr_with_smote\n",
    "}"
   ]
  },
  {
   "cell_type": "code",
   "execution_count": 68,
   "id": "de146995-687b-4cee-a056-07ca7f8dd0f7",
   "metadata": {},
   "outputs": [
    {
     "data": {
      "text/plain": [
       "['model.joblib']"
      ]
     },
     "execution_count": 68,
     "metadata": {},
     "output_type": "execute_result"
    }
   ],
   "source": [
    "joblib.dump(model, 'model.joblib')"
   ]
  },
  {
   "cell_type": "markdown",
   "id": "548f41ce-7da8-406d-b777-a3bbc22bfc5d",
   "metadata": {},
   "source": [
    "# Conclusion\n",
    "\n",
    "In this project, we analyzed a healthcare dataset to understand the factors influencing stroke occurrence. Through Exploratory Data Analysis, we found that variables such as age, hypertension, heart disease, average glucose level, and BMI play a significant role in stroke prediction.\n",
    "\n",
    "The dataset was highly imbalanced, so we applied SMOTE to balance the classes, which improved the model’s ability to detect stroke cases. We trained and evaluated multiple machine learning models including Logistic Regression, Random Forest, and XGBoost.\n",
    "\n",
    "Among them, XGBoost delivered the best performance with higher accuracy and ROC-AUC score, making it the most effective model for this dataset.\n",
    "\n",
    "This project highlights how data preprocessing, class balancing, and model selection are crucial when working with healthcare datasets. It demonstrates the application of data science in solving real-world problems, and the workflow can be extended into a real-time system for early stroke risk prediction."
   ]
  },
  {
   "cell_type": "code",
   "execution_count": null,
   "id": "211948cc-8563-45a1-8c00-d1fd39dee093",
   "metadata": {},
   "outputs": [],
   "source": [
    "# 🫀 Heart Disease Prediction using Machine Learning\n",
    "\n",
    "This project uses clinical data and machine learning to predict the likelihood of a person having heart disease. The aim is to assist in early diagnosis using simple input features and a Logistic Regression model.\n",
    "\n",
    "---\n",
    "\n",
    "## ✅ Features Included\n",
    "\n",
    "- ✅ Logistic Regression ML model\n",
    "- ✅ Performance metrics: Accuracy, Precision, Recall, F1 Score, ROC-AUC\n",
    "- ✅ Outlier detection using boxplots\n",
    "- ✅ ROC Curve plotted for performance visualization\n",
    "- ✅ Trained model exported as `.pkl` using `joblib`\n",
    "- ✅ Predicted results converted into readable class labels\n",
    "\n",
    "---\n",
    "\n",
    "## 📊 Sample Metrics\n",
    "\n",
    "| Metric       | Score     |\n",
    "|--------------|-----------|\n",
    "| Accuracy     | 0.69%    |\n",
    "| Precision    | 0.52%    |\n",
    "| Recall       | 1.0%    |\n",
    "| F1 Score     | 0.68%    |\n",
    "| ROC-AUC      | 0.94%    |\n",
    "\n",
    "---\n",
    "\n",
    "## 🧰 Libraries Used\n",
    "\n",
    "- `pandas`, `numpy`\n",
    "- `matplotlib`, `seaborn`\n",
    "- `scikit-learn`\n",
    "- `joblib`\n",
    "\n",
    "---\n",
    "\n",
    "## 🧪 Dataset Info\n",
    "\n",
    "- Contains health indicators like age, cholesterol, resting blood pressure, max heart rate, and more.\n",
    "- Target column: `target` (0 = No Heart Disease, 1 = Heart Disease Present)\n",
    "\n",
    "---\n",
    "\n",
    "## 📈 Visuals Included\n",
    "\n",
    "- 📌 Boxplots to detect outliers\n",
    "- 📌 ROC Curve to analyze model discrimination ability\n",
    "- 📌 Confusion matrix and label-based outputs\n",
    "\n",
    "---\n",
    "\n",
    "## 🚀 How to Run the Project\n",
    "\n",
    "1. **Clone the repository:**\n",
    "   ```bash\n",
    "   git clone https://github.com/nikhil-kumarrr/Machine-Learning-Project.git\n",
    "   cd Machine-Learning-Project\n"
   ]
  }
 ],
 "metadata": {
  "kernelspec": {
   "display_name": "Python 3 (ipykernel)",
   "language": "python",
   "name": "python3"
  },
  "language_info": {
   "codemirror_mode": {
    "name": "ipython",
    "version": 3
   },
   "file_extension": ".py",
   "mimetype": "text/x-python",
   "name": "python",
   "nbconvert_exporter": "python",
   "pygments_lexer": "ipython3",
   "version": "3.12.7"
  }
 },
 "nbformat": 4,
 "nbformat_minor": 5
}
